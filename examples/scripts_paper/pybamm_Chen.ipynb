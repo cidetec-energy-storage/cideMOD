{
 "cells": [
  {
   "cell_type": "code",
   "execution_count": 1,
   "metadata": {},
   "outputs": [
    {
     "name": "stderr",
     "output_type": "stream",
     "text": [
      "2023-07-28 12:59:53.314 - [INFO] base_model._build_model(545): Start building Doyle-Fuller-Newman model\n",
      "2023-07-28 12:59:53.353 - [INFO] base_battery_model.build_model(921): Finish building Doyle-Fuller-Newman model\n",
      "2023-07-28 12:59:53.358 - [INFO] callbacks.on_experiment_start(164): Start running experiment\n",
      "2023-07-28 12:59:53.360 - [INFO] parameter_values.process_model(306): Start setting parameters for Doyle-Fuller-Newman model\n",
      "2023-07-28 12:59:53.428 - [INFO] parameter_values.process_model(387): Finish setting parameters for Doyle-Fuller-Newman model\n",
      "2023-07-28 12:59:53.431 - [INFO] discretisation.process_model(147): Start discretising Doyle-Fuller-Newman model\n",
      "2023-07-28 12:59:53.437 - [INFO] discretisation.remove_independent_variables_from_rhs(1127): removing variable Discharge capacity [A.h] from rhs\n",
      "2023-07-28 12:59:53.438 - [INFO] discretisation.remove_independent_variables_from_rhs(1127): removing variable Throughput capacity [A.h] from rhs\n",
      "2023-07-28 12:59:53.738 - [INFO] discretisation.process_model(249): Finish discretising Doyle-Fuller-Newman model\n",
      "2023-07-28 12:59:53.743 - [NOTICE] callbacks.on_cycle_start(172): Cycle 1/1 (3.535 ms elapsed) --------------------\n",
      "2023-07-28 12:59:53.744 - [NOTICE] callbacks.on_step_start(180): Cycle 1/1, step 1/1: Discharge at 1.0000C until 2.5V\n",
      "2023-07-28 12:59:53.747 - [INFO] base_solver.set_up(111): Start solver set-up\n",
      "2023-07-28 12:59:53.815 - [INFO] base_solver.set_up(253): Finish solver set-up\n",
      "At t = 172.93 and h = 3.4381e-14, the corrector convergence failed repeatedly or with |h| = hmin.\n",
      "At t = 172.93 and h = 9.14993e-20, the corrector convergence failed repeatedly or with |h| = hmin.\n",
      "2023-07-28 12:59:54.707 - [INFO] parameter_values.process_model(306): Start setting parameters for ElectrodeSOH model\n",
      "2023-07-28 12:59:54.720 - [INFO] parameter_values.process_model(387): Finish setting parameters for ElectrodeSOH model\n",
      "2023-07-28 12:59:54.721 - [INFO] discretisation.process_model(147): Start discretising ElectrodeSOH model\n",
      "2023-07-28 12:59:54.736 - [INFO] discretisation.process_model(249): Finish discretising ElectrodeSOH model\n",
      "2023-07-28 12:59:54.738 - [INFO] base_solver.solve(692): Start solving ElectrodeSOH model with Algebraic solver (lm)\n",
      "2023-07-28 12:59:54.740 - [INFO] base_solver.set_up(111): Start solver set-up\n",
      "2023-07-28 12:59:54.757 - [INFO] base_solver.set_up(253): Finish solver set-up\n",
      "2023-07-28 12:59:54.762 - [INFO] base_solver.solve(919): Finish solving ElectrodeSOH model (the solver successfully reached the end of the integration interval)\n",
      "2023-07-28 12:59:54.764 - [INFO] base_solver.solve(920): Set-up time: 18.695 ms, Solve time: 3.717 ms (of which integration time: 2.892 ms), Total time: 22.412 ms\n",
      "2023-07-28 12:59:55.026 - [NOTICE] callbacks.on_experiment_end(220): Finish experiment simulation, took 1.286 s\n"
     ]
    },
    {
     "data": {
      "application/vnd.jupyter.widget-view+json": {
       "model_id": "916a1e75684a45fdabec5d58ec7d4fa6",
       "version_major": 2,
       "version_minor": 0
      },
      "text/plain": [
       "interactive(children=(FloatSlider(value=0.0, description='t', max=3555.4483126302393, step=35.554483126302394)…"
      ]
     },
     "metadata": {},
     "output_type": "display_data"
    }
   ],
   "source": [
    "import pybamm\n",
    "import numpy as np\n",
    "import matplotlib.pyplot as plt\n",
    "\n",
    "pybamm.set_logging_level(\"INFO\")\n",
    "\n",
    "# load model\n",
    "model = pybamm.lithium_ion.DFN()\n",
    "param = pybamm.ParameterValues(\"Chen2020\")\n",
    "# solve model\n",
    "C_rates = [1]\n",
    "solutions = []\n",
    "\n",
    "for i, C_rate in enumerate(C_rates):\n",
    "    experiment = pybamm.Experiment(\n",
    "        [\"Discharge at {:.4f}C until 2.5V\".format(C_rate)],\n",
    "        period=\"{:.4f} seconds\".format(10 / C_rate),\n",
    "    )\n",
    "    sim = pybamm.Simulation(model, parameter_values=param, experiment=experiment, solver=pybamm.CasadiSolver(mode='safe'))\n",
    "    sim.solve()\n",
    "    solutions.append(sim.solution)\n",
    "\n",
    "pybamm.dynamic_plot(\n",
    "    solutions,\n",
    "    [\n",
    "        \"Terminal voltage [V]\",\n",
    "        \"Negative particle surface concentration\",\n",
    "        \"X-averaged negative particle surface concentration\",\n",
    "        \"Electrolyte concentration [mol.m-3]\",\n",
    "    ],\n",
    ")\n",
    "solutions[0].save_data(\n",
    "    \"results/Chen_1C.csv\", [\"Time [s]\", \"Current [A]\", \"Terminal voltage [V]\"], to_format=\"csv\"\n",
    ")"
   ]
  }
 ],
 "metadata": {
  "kernelspec": {
   "display_name": "Python 3.9.13 ('python3.9')",
   "language": "python",
   "name": "python3"
  },
  "language_info": {
   "codemirror_mode": {
    "name": "ipython",
    "version": 3
   },
   "file_extension": ".py",
   "mimetype": "text/x-python",
   "name": "python",
   "nbconvert_exporter": "python",
   "pygments_lexer": "ipython3",
   "version": "3.10.6"
  },
  "orig_nbformat": 4,
  "vscode": {
   "interpreter": {
    "hash": "7a7e126899c5af05e55f01bf084e6a795d89d0682dc76a168daf6209278f9fbe"
   }
  }
 },
 "nbformat": 4,
 "nbformat_minor": 2
}
