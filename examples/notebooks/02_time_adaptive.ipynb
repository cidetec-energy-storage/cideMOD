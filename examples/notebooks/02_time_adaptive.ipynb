{
 "cells": [
  {
   "attachments": {},
   "cell_type": "markdown",
   "metadata": {},
   "source": [
    "## Time-adaptive scheme\n",
    "In the previous example we have executed the simulation using a constant timestep. Now we will see\n",
    "how to configure a simulation using a time-adaptive scheme. As in the previous example, we start by\n",
    "importing `run_case`:"
   ]
  },
  {
   "cell_type": "code",
   "execution_count": 1,
   "metadata": {},
   "outputs": [],
   "source": [
    "from cideMOD import run_case"
   ]
  },
  {
   "attachments": {},
   "cell_type": "markdown",
   "metadata": {},
   "source": [
    "We specify that we want to use the time-adaptive scheme by activating the flag `adaptive`. The hyperparameters that control this scheme are:\n",
    "\n",
    "- `min_step`: Minimum timestep lenght for adaptive solver in seconds. Defaults to 0.01.\n",
    "- `max_step`: Maximum timestep lenght for adaptive solver in seconds. Defaults to 3600.\n",
    "- `adaptive`: Wether to use adaptive timestepping or not. Defaults to True.\n",
    "- `time_adaptive_tol`: Tolerance of the time-adaptive scheme. Defaults to 1e-2."
   ]
  },
  {
   "cell_type": "code",
   "execution_count": 2,
   "metadata": {},
   "outputs": [
    {
     "name": "stdout",
     "output_type": "stream",
     "text": [
      "Saving results to /home/fenicsx/shared/cideMOD/examples/notebooks/results/results_02_time_adaptive\n",
      "Negative electrode capacity: 0.071714\n",
      "Positive electrode capacity: 0.071707\n",
      "Cell capacity: 0.071707\n",
      "Building mesh for P2D problem with 5 components and 150 nodes\n",
      "Finished mesh construction\n",
      "Building problem setup\n",
      "- Building cell parameters - Done\n",
      "- Initializing state - Done   \n",
      "- Build variational formulation - Done \n",
      "Voltage is <3 V at 58min 22s                      \n",
      "\n",
      "Time: 58min 22s  Voltage: 3  Current: -0.07171\r"
     ]
    },
    {
     "data": {
      "application/vnd.jupyter.widget-view+json": {
       "model_id": "12756739cd814ffd89b3004b19ed542b",
       "version_major": 2,
       "version_minor": 0
      },
      "text/plain": [
       "VBox(children=(VBox(children=(Accordion(children=(HBox(children=(VBox(children=(Dropdown(description='x', layo…"
      ]
     },
     "metadata": {},
     "output_type": "display_data"
    }
   ],
   "source": [
    "case = 'Ai_2020'\n",
    "options_dict = dict(model='P2D', save_path=f\"results/02_time_adaptive\")\n",
    "cell_data = f\"../../data/data_{case}/params.json\"\n",
    "status = run_case(options_dict, cell_data, C_rate=1, v_min=3, adaptive=True,\n",
    "                  min_step=10, max_step=60, time_adaptive_tol=1e2,\n",
    "                  plot_globals=True)"
   ]
  }
 ],
 "metadata": {
  "interpreter": {
   "hash": "31f2aee4e71d21fbe5cf8b01ff0e069b9275f58929596ceb00d14d90e3e16cd6"
  },
  "kernelspec": {
   "display_name": "Python 3.6.9 64-bit",
   "language": "python",
   "name": "python3"
  },
  "language_info": {
   "codemirror_mode": {
    "name": "ipython",
    "version": 3
   },
   "file_extension": ".py",
   "mimetype": "text/x-python",
   "name": "python",
   "nbconvert_exporter": "python",
   "pygments_lexer": "ipython3",
   "version": "3.10.6"
  },
  "orig_nbformat": 4
 },
 "nbformat": 4,
 "nbformat_minor": 2
}
