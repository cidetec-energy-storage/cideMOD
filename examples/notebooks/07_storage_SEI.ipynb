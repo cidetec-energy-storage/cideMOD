{
    "cells": [
     {
      "cell_type": "markdown",
      "metadata": {},
      "source": [
       "## Evolution of SEI at storage\n",
       "\n",
       "In this notebook we use the solvent-diffusion SEI model to predict the degradation of the cell at storage conditions during several months."
      ]
     },
     {
      "cell_type": "markdown",
      "metadata": {},
      "source": [
       "As usual, we import the required cideMOD classes and set the simulation options"
      ]
     },
     {
      "cell_type": "code",
      "execution_count": 1,
      "metadata": {},
      "outputs": [
       {
        "name": "stdout",
        "output_type": "stream",
        "text": [
         "Saving results to /home/fenicsx/shared/cideMOD/examples/notebooks/results/results_07_storage_SEI\n"
        ]
       }
      ],
      "source": [
       "from cideMOD import CSI, get_model_options\n",
       "\n",
       "model_options = get_model_options(model='P2D', SEI_model='solvent_diffusion',\n",
       "                                       save_path=\"results/07_storage_SEI\")"
      ]
     },
     {
      "cell_type": "markdown",
      "metadata": {},
      "source": [
       "Now we are going to elaborate the test plan using python dictionaries. As we are not doing any\n",
       "cycling we only need the storage step. Additionally, we can increase the maximum timestep to 1h and\n",
       "relax the time adaptive tolerance, as the cell will be in stationary state."
      ]
     },
     {
      "cell_type": "code",
      "execution_count": 2,
      "metadata": {},
      "outputs": [],
      "source": [
       "rest = {\n",
       "    \"name\": \"Storage\",\n",
       "    \"type\": \"Rest\",  # 'Current' or 'Voltage' or 'CC' or 'CV' or Rest\n",
       "    \"t_max\": {\"value\": 30*6, \"unit\": \"day\"},\n",
       "    \"store_delay\": -1,\n",
       "    \"min_step\": 10,\n",
       "    \"max_step\": 3600,\n",
       "    \"time_adaptive_tol\": 1e2,\n",
       "    \"adaptive\": True,\n",
       "    \"events\": [],\n",
       "}\n",
       "\n",
       "test_plan = {\n",
       "    \"initial_state\": {\"SOC\": 1, \"exterior_temperature\": 298.15},\n",
       "    \"steps\": [rest],\n",
       "}"
      ]
     },
     {
      "cell_type": "markdown",
      "metadata": {},
      "source": [
       "Now we can instantiate the `CSI` object using the data from `Safari 2009` and run the simulation. $^{[1]}$"
      ]
     },
     {
      "cell_type": "code",
      "execution_count": 3,
      "metadata": {},
      "outputs": [
       {
        "name": "stdout",
        "output_type": "stream",
        "text": [
         "Negative electrode capacity: 2.295595\n",
         "Positive electrode capacity: 1.986885\n",
         "Cell capacity: 1.986885\n",
         "Building mesh for P2D problem with 3 components and 90 nodes\n",
         "Finished mesh construction\n",
         "Initial state:\n",
         "\tSOC : 1\n",
         "\texterior_temperature : 298.15\n",
         "Steps:\n",
         "0 -  Storage: Rest during 180 days\n",
         "Building problem setup\n",
         "- Building cell parameters - Done\n",
         "- Initializing state - Done   \n",
         "- Build variational formulation - Done \n",
         "Storage: Rest during 180 days\n",
         "Reached max time 15552000.00                        \n",
         "\n"
        ]
       }
      ],
      "source": [
       "cell_data = \"../../data/data_Safari_2009/params_OCV.json\"\n",
       "csi = CSI(cell_data, model_options, test_plan)\n",
       "status = csi.run_test_plan()"
      ]
     },
     {
      "cell_type": "code",
      "execution_count": 4,
      "metadata": {},
      "outputs": [
       {
        "data": {
         "application/vnd.jupyter.widget-view+json": {
          "model_id": "b16ac2aca15a4ddab895f3e2611c938c",
          "version_major": 2,
          "version_minor": 0
         },
         "text/plain": [
          "VBox(children=(VBox(children=(Accordion(children=(HBox(children=(VBox(children=(Dropdown(description='x', layo…"
         ]
        },
        "metadata": {},
        "output_type": "display_data"
       }
      ],
      "source": [
       "csi.plot_global_results()"
      ]
     },
     {
      "cell_type": "markdown",
      "metadata": {},
      "source": [
       "[1] M. Safari et al 2009 J. Electrochem. Soc. 156 A145 doi: 10.1149/1.3043429"
      ]
     }
    ],
    "metadata": {
     "interpreter": {
      "hash": "31f2aee4e71d21fbe5cf8b01ff0e069b9275f58929596ceb00d14d90e3e16cd6"
     },
     "kernelspec": {
      "display_name": "Python 3.6.9 64-bit",
      "language": "python",
      "name": "python3"
     },
     "language_info": {
      "codemirror_mode": {
       "name": "ipython",
       "version": 3
      },
      "file_extension": ".py",
      "mimetype": "text/x-python",
      "name": "python",
      "nbconvert_exporter": "python",
      "pygments_lexer": "ipython3",
      "version": "3.10.6"
     },
     "orig_nbformat": 4
    },
    "nbformat": 4,
    "nbformat_minor": 2
   }
   