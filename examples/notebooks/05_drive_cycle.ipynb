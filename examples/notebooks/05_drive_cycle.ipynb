{
 "cells": [
  {
   "cell_type": "markdown",
   "metadata": {},
   "source": [
    "## Simulation of a drive cycle\n",
    "\n",
    "In this example we are going to use the Urban Dynamic Dinamometer Schedule (UDDS) drive cycle to test the datasets we have available."
   ]
  },
  {
   "cell_type": "code",
   "execution_count": 1,
   "metadata": {},
   "outputs": [
    {
     "name": "stdout",
     "output_type": "stream",
     "text": [
      "Saving results to /home/fenicsx/shared/cideMOD/examples/notebooks/results/results_05_drive_cycle\n"
     ]
    }
   ],
   "source": [
    "from cideMOD import CSI, get_model_options\n",
    "\n",
    "simulation_options = get_model_options(model='P2D', save_path=\"results/05_drive_cycle\")"
   ]
  },
  {
   "cell_type": "markdown",
   "metadata": {},
   "source": [
    "We can input a current profile to the cell using the `Profile` step:"
   ]
  },
  {
   "cell_type": "code",
   "execution_count": 2,
   "metadata": {},
   "outputs": [],
   "source": [
    "max_V = { \n",
    "    \"type\": \"Voltage\",  \n",
    "    \"value\": 3.7, \n",
    "    \"unit\": \"V\", \n",
    "    \"atol\": 1e-4, \n",
    "    \"rtol\": 1e-3,\n",
    "    \"goto\": \"Next\" \n",
    "}\n",
    "min_V = { \n",
    "    \"type\": \"Voltage\",  \n",
    "    \"value\": 2, \n",
    "    \"unit\": \"V\", \n",
    "    \"atol\": 1e-4, \n",
    "    \"rtol\": 1e-3,\n",
    "    \"goto\": \"Next\" \n",
    "}\n",
    "\n",
    "drive_cycle = {\n",
    "    \"initial_state\": {\"SOC\": 0.9, \"exterior_temperature\": 298.15},\n",
    "    \"steps\": [{\n",
    "        \"name\": \"UDDS drive cycle\",\n",
    "        \"type\": \"Profile\",\n",
    "        \"profile_type\": 'current',\n",
    "        \"source\": \"UDDS.txt\",\n",
    "        \"delimiter\": '\\t',\n",
    "        \"skip_header\": True,\n",
    "        \"unit\": \"A\",\n",
    "        \"store_delay\": -1,\n",
    "        \"min_step\": 1,\n",
    "        \"adaptive\": False,\n",
    "        \"optimize\": True,\n",
    "        \"events\": [max_V, min_V],\n",
    "    }],\n",
    "}"
   ]
  },
  {
   "cell_type": "markdown",
   "metadata": {},
   "source": [
    "Now we can perform the simulation:"
   ]
  },
  {
   "cell_type": "code",
   "execution_count": null,
   "metadata": {},
   "outputs": [],
   "source": [
    "csi = CSI(\"../../data/data_Xu_2015/params.json\", simulation_options, drive_cycle)\n",
    "status = csi.run_test_plan()"
   ]
  },
  {
   "cell_type": "markdown",
   "metadata": {},
   "source": [
    "Finally, we can use the `CSI` specific method to plot the result of the simulation."
   ]
  },
  {
   "cell_type": "code",
   "execution_count": 4,
   "metadata": {},
   "outputs": [
    {
     "data": {
      "application/vnd.jupyter.widget-view+json": {
       "model_id": "b4027bb734194a50a1bac2cb82f4fb88",
       "version_major": 2,
       "version_minor": 0
      },
      "text/plain": [
       "VBox(children=(VBox(children=(Accordion(children=(HBox(children=(VBox(children=(Dropdown(description='x', layo…"
      ]
     },
     "metadata": {},
     "output_type": "display_data"
    }
   ],
   "source": [
    "csi.plot_global_results()"
   ]
  }
 ],
 "metadata": {
  "interpreter": {
   "hash": "31f2aee4e71d21fbe5cf8b01ff0e069b9275f58929596ceb00d14d90e3e16cd6"
  },
  "kernelspec": {
   "display_name": "Python 3.6.9 64-bit",
   "language": "python",
   "name": "python3"
  },
  "language_info": {
   "codemirror_mode": {
    "name": "ipython",
    "version": 3
   },
   "file_extension": ".py",
   "mimetype": "text/x-python",
   "name": "python",
   "nbconvert_exporter": "python",
   "pygments_lexer": "ipython3",
   "version": "3.10.6"
  },
  "orig_nbformat": 4
 },
 "nbformat": 4,
 "nbformat_minor": 2
}
