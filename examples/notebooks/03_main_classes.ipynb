{
    "cells": [
     {
      "attachments": {},
      "cell_type": "markdown",
      "metadata": {},
      "source": [
       "## Main Classes\n",
       "\n",
       "In this notebook we will familiarize ourselves with the main classes of `cideMOD`. They will allow\n",
       "us to have a better control over the different steps of the simulation, as well as, to configure\n",
       "advance settings that cannot be done with `run_case`.\n",
       "\n",
       "### Table of Contents\n",
       "- Model options\n",
       "- CellParser\n",
       "- Problem\n",
       "- Cell Simulation Interface\n",
       "\n",
       "First we start by importing the main classes of `cideMOD`."
      ]
     },
     {
      "cell_type": "code",
      "execution_count": 1,
      "metadata": {},
      "outputs": [],
      "source": [
       "from cideMOD import (\n",
       "    get_model_options,\n",
       "    CellParser,\n",
       "    Problem,\n",
       "    CSI,\n",
       "    Trigger,\n",
       "    PlotView,\n",
       "    VerbosityLevel,\n",
       "    models_info\n",
       ")"
      ]
     },
     {
      "attachments": {},
      "cell_type": "markdown",
      "metadata": {},
      "source": [
       "### Model options\n",
       "The method `get_model_options` allows a fast configuration of the model used:\n",
       "- `model` (`str`): Simulation model, default `P2D`, options `P2D`, `P3D`, `P4D` and `SPM`\n",
       "- `solve_thermal` (`bool`): Whether to solve thermal problem or not, default False\n",
       "- `solve_LAM` (`bool`): Whether to solve LAM problem or not, default False\n",
       "- `SEI_model` (`str`): Which SEI model is active, default to None\n",
       "- `N_x` (`int`): Discretization of every component in x direction, default 30\n",
       "- `N_y` (`int`): Discretization in y direction, default 10\n",
       "- `N_z` (`int`): Discretization in z direction, default 10\n",
       "- `time_scheme` (`str`): Time discretization scheme, default `euler_implicit`.\n",
       "- `raise_errors_on_exit` (`bool`): Whether to raise the `SolverCrashed` error on exit if it happens.\n",
       "  Defaults to True.\n",
       "- `clean_on_exit` (`bool`): Whether to clean from memory saved data at the end of the solve cycle.\n",
       "  Defaults to True.\n",
       "- `save_on_exit` (`bool`): Whether to save global variables on exit. They will be saved always\n",
       "  before cleaning. Defaults to True.\n",
       "- `save_path`: Path to the folder outputs. If it does not exist, create it. Otherwise it will check\n",
       "  `overwrite` to override the existing data or change the given save_path\n",
       "- `verbose`: Verbosity level. Defaults to `VerbosityLevel.BASIC_PROBLEM_INFO`. For more information\n",
       "  type `help(VerbosityLevel)`"
      ]
     },
     {
      "cell_type": "code",
      "execution_count": 2,
      "metadata": {},
      "outputs": [
       {
        "name": "stdout",
        "output_type": "stream",
        "text": [
         "Saving results to /home/fenicsx/shared/cideMOD/examples/notebooks/results/results_03_main_classes_discharge\n"
        ]
       }
      ],
      "source": [
       "model_options = get_model_options(model='P2D', save_path=\"results/03_main_classes_discharge\",\n",
       "                                  clean_on_exit = False, verbose=VerbosityLevel.DETAILED_PROGRESS_INFO)"
      ]
     },
     {
      "cell_type": "markdown",
      "metadata": {},
      "source": [
       "Each submodel may also have its own options. We can see the available options of an specific model. For the `PXD` model we have:"
      ]
     },
     {
      "cell_type": "code",
      "execution_count": 3,
      "metadata": {},
      "outputs": [
       {
        "name": "stdout",
        "output_type": "stream",
        "text": [
         "\n",
         "    Settings for the cideMOD's cell model simulation.\n",
         "\n",
         "    General Parameters\n",
         "    ------------------\n",
         "    model: str\n",
         "        Simulation mode, default \"P2D\"\n",
         "    dimensionless: bool\n",
         "        Whether to use the dimensionless version or not. Default to\n",
         "        False\n",
         "    solve_LAM: bool\n",
         "        Whether to solve LAM problem or not. Default to False\n",
         "    N_x: int\n",
         "        Discretization in x direction. Default to 30\n",
         "    N_y: int\n",
         "        Discretization in y direction. Default to 10\n",
         "    N_z: int\n",
         "        Discretization in z direction. Default to 10\n",
         "    FEM_order: int\n",
         "        Order of interpolating finite elements. Default to 1\n",
         "    time_scheme: str\n",
         "        Time discretization scheme, default \"euler_implicit\"\n",
         "    raise_errors_on_exit: bool\n",
         "        Whether to raise the SolverCrashed error on exit if it happens.\n",
         "        Default to True.\n",
         "    clean_on_exit: bool\n",
         "        Whether to clean from memory saved data at the end of the solve\n",
         "        cycle. Default to True.\n",
         "    save_on_exit: bool\n",
         "        Whether to save global variables on exit. They will be saved\n",
         "        always before cleaning. Default to True.\n",
         "    globals_txts: bool\n",
         "        Whether to save global variables on individual .txt files or\n",
         "        just as a single 'condensated.txt' file. Default to True.\n",
         "    comm : MPI.Intracomm, optional\n",
         "        MPI Communicator for running tests in parallel. Default to\n",
         "        MPI.COMM_WORLD.\n",
         "    overwrite: bool, optional\n",
         "        Whether or not to override existing data (if so). Default to\n",
         "        False.\n",
         "    save_path: str, optional\n",
         "        Path to the folder outputs. If it does not exist, create it.\n",
         "        Otherwise it will check `overwrite` to override the existing\n",
         "        data or change the given save_path\n",
         "    verbose: int\n",
         "        Verbosity level. Defaults to VerbosityLevel.BASIC_PROBLEM_INFO.\n",
         "        For more information type `help(cideMOD.VerbosityLevel)`\n",
         "    \n",
         "\n",
         "    Electrochemical Model\n",
         "    ---------------------\n",
         "    particle_coupling: str\n",
         "        Coupling between cell and particle problem. Available options:\n",
         "        `implicit`, `explicit`. Default to `implicit`.\n",
         "    particle_model: int\n",
         "        Particle model to be used. Available models:\n",
         "        - `SGM`: Spectral Galerkin Model. Default option.\n",
         "    \n",
         "\n",
         "    Particle Model. SGM\n",
         "    -------------------\n",
         "    particle_order: int\n",
         "        Order of spectral finite elements interpolation in particle.\n",
         "        Defaults to 2\n",
         "    \n",
         "\n",
         "    Thermal Model\n",
         "    -------------\n",
         "    solve_thermal: bool\n",
         "        Whether or not to solve the thermal model\n",
         "    \n",
         "\n",
         "    SEI Model\n",
         "    ---------\n",
         "    SEI_model: str\n",
         "        Which limiting mechanism is applied to the SEI model, one of\n",
         "        `solvent_diffusion`, `electron_migration`. Use None in order to\n",
         "        deactivate the SEI model. Defaults to None.\n",
         "    \n",
         "\n",
         "    SEI model: solvent-diffusion\n",
         "    ~~~~~~~~~~~~~~~~~~~~~~~~~~~~\n",
         "    sei_particle_order: int\n",
         "        Order of spectral finite elements interpolation in particle.\n",
         "        Defaults to 2\n",
         "    \n"
        ]
       }
      ],
      "source": [
       "print(model_options.__doc__)"
      ]
     },
     {
      "attachments": {},
      "cell_type": "markdown",
      "metadata": {},
      "source": [
       "### **CellParser**\n",
       "\n",
       "The class `CellParser` parses and stores the cell properties from the input dictionary within a\n",
       "python object. "
      ]
     },
     {
      "cell_type": "code",
      "execution_count": 4,
      "metadata": {},
      "outputs": [
       {
        "name": "stdout",
        "output_type": "stream",
        "text": [
         "Negative electrode capacity: 0.071714\n",
         "Positive electrode capacity: 0.071707\n",
         "Cell capacity: 0.071707\n"
        ]
       }
      ],
      "source": [
       "data_path = \"../../data/data_Ai_2020\"\n",
       "cell_data = \"params.json\"\n",
       "cell = CellParser(cell_data, data_path, model_options)"
      ]
     },
     {
      "attachments": {},
      "cell_type": "markdown",
      "metadata": {},
      "source": [
       "This object allows the user to modify the values and flags of the selected parameter.\n",
       "\n",
       "We can get the values of the different parameters by using `get_value`"
      ]
     },
     {
      "cell_type": "code",
      "execution_count": 5,
      "metadata": {},
      "outputs": [
       {
        "name": "stdout",
        "output_type": "stream",
        "text": [
         "L_a=7.65e-05; eps_s_a0=0.61\n"
        ]
       }
      ],
      "source": [
       "L_a = cell.get_value('cell.anode.thickness')\n",
       "eps_s_a0 = cell.get_value('cell.anode.am0.volume_fraction')\n",
       "\n",
       "print(f\"{L_a=}; {eps_s_a0=}\")\n"
      ]
     },
     {
      "cell_type": "markdown",
      "metadata": {},
      "source": [
       "We can also update the values of the parameters by using `update_parameter/s`"
      ]
     },
     {
      "cell_type": "code",
      "execution_count": 6,
      "metadata": {},
      "outputs": [
       {
        "name": "stdout",
        "output_type": "stream",
        "text": [
         "Negative electrode capacity: 0.074995\n",
         "Positive electrode capacity: 0.071707\n",
         "Cell capacity: 0.071707\n",
         "L_a=8e-05\n"
        ]
       }
      ],
      "source": [
       "cell.update_parameter('cell.anode.thickness', 80e-6)\n",
       "print(f\"L_a={cell.get_value('cell.anode.thickness')}\")\n"
      ]
     },
     {
      "attachments": {},
      "cell_type": "markdown",
      "metadata": {},
      "source": [
       "### Problem\n",
       "\n",
       "The class `Problem` is the core of the library. Having gathered the needed information, it builds the mathematical model, perform the simulation and store the requested data. First we have to initialize it:"
      ]
     },
     {
      "cell_type": "code",
      "execution_count": 7,
      "metadata": {},
      "outputs": [
       {
        "name": "stdout",
        "output_type": "stream",
        "text": [
         "Building mesh for P2D problem with 5 components and 150 nodes\n",
         "Finished mesh construction\n"
        ]
       }
      ],
      "source": [
       "problem = Problem(cell, model_options)"
      ]
     },
     {
      "attachments": {},
      "cell_type": "markdown",
      "metadata": {},
      "source": [
       "Let's see some of its main functions.\n",
       "\n",
       "`set_cell_state`: It sets the initial cell state. For the electrochemical model, we can set the\n",
       "following parameters:\n",
       "- `SoC`: Initial State of Charge of the battery cell.\n",
       "- `T_ext`: External temperature in Kelvin.\n",
       "- `T_ini`: Uniform value of the cell temperature.\n"
      ]
     },
     {
      "cell_type": "code",
      "execution_count": 8,
      "metadata": {},
      "outputs": [],
      "source": [
       "T = 273.15 + 25  # temperature in K\n",
       "problem.set_cell_state(SoC=1, T_ext=T, T_ini=T)\n"
      ]
     },
     {
      "cell_type": "markdown",
      "metadata": {},
      "source": [
       "We can access the information of this method for each selected submodel as follows:"
      ]
     },
     {
      "cell_type": "code",
      "execution_count": 9,
      "metadata": {},
      "outputs": [
       {
        "name": "stdout",
        "output_type": "stream",
        "text": [
         "\n",
         "        Electrochemical\n",
         "        ~~~~~~~~~~~~~~~\n",
         "        This method set the current state of the cell.\n",
         "\n",
         "        Parameters\n",
         "        ----------\n",
         "        problem: Problem\n",
         "            Object that handles the battery cell simulation.\n",
         "        SoC: float, optional\n",
         "            Current State of Charge of the battery cell. Default initial\n",
         "            value to 1.\n",
         "        T_ext: float, optional\n",
         "            External temperature. Default initial value to 298,15 K.\n",
         "        T_ini: float, optional\n",
         "            Uniform value of the internal temperature. Default initial\n",
         "            value to `T_ext`.\n",
         "        \n"
        ]
       }
      ],
      "source": [
       "models_info('set_cell_state', model_options=model_options)\n"
      ]
     },
     {
      "cell_type": "markdown",
      "metadata": {},
      "source": [
       "`add_global_variables` and `add_internal_variables`: This methods allow us to include additional\n",
       "outputs to be computed."
      ]
     },
     {
      "cell_type": "code",
      "execution_count": 10,
      "metadata": {},
      "outputs": [],
      "source": [
       "problem.add_global_variables('c_e_avg')\n",
       "problem.add_internal_variables('ionic_current')"
      ]
     },
     {
      "cell_type": "markdown",
      "metadata": {},
      "source": [
       "We can see the available outputs with"
      ]
     },
     {
      "cell_type": "code",
      "execution_count": 11,
      "metadata": {},
      "outputs": [
       {
        "name": "stdout",
        "output_type": "stream",
        "text": [
         "Available global variables: 'time' 'voltage' 'current' 'capacity' 'c_e_avg' 'phi_e_avg' 'phi_s_avg' 'i_Li_int_avg' 'i_Li_total_avg' 'cathode_SOC' 'total_lithium'\n",
         "Available internal variables: 'c_e' 'phi_e' 'phi_s' 'i_Li_int' 'i_Li_total' 'j_Li_int_a' 'j_Li_int_c' 'j_Li_total_a' 'j_Li_total_c' 'overpotential_a' 'overpotential_c' 'ionic_current' 'electric_current' 'li_ion_flux' 'li_ion_flux_migration' 'li_ion_flux_diffusion' 'c_s_a_surf' 'c_s_a_avg' 'x_a_surf' 'x_a_avg' 'c_s_c_surf' 'c_s_c_avg' 'x_c_surf' 'x_c_avg'\n"
        ]
       }
      ],
      "source": [
       "problem.print_available_outputs()"
      ]
     },
     {
      "attachments": {},
      "cell_type": "markdown",
      "metadata": {},
      "source": [
       "`setup`: This method set up the Problem object. It performs the following actions:\n",
       "1. Build the FEM function spaces\n",
       "2. Build the cell properties\n",
       "3. Set-up internal state variables\n",
       "4. Set-up Warehouse object (to store the requested outputs)\n",
       "5. Build the variational formulation\n",
       "\n",
       "After this method is called, we cannot change any parameter or option that defines our simulation."
      ]
     },
     {
      "cell_type": "code",
      "execution_count": 12,
      "metadata": {},
      "outputs": [
       {
        "name": "stdout",
        "output_type": "stream",
        "text": [
         "Building problem setup\n",
         "- Building FEM function spaces - Done\n",
         "- Building cell parameters:\n",
         "    Setting up 'cell' parameters\n",
         "    Setting up 'cell.electrolyte' parameters\n",
         "    Setting up 'cell.anode' parameters\n",
         "    Setting up 'cell.anode.am0' parameters\n",
         "    Setting up 'cell.cathode' parameters\n",
         "    Setting up 'cell.cathode.am0' parameters\n",
         "    Setting up 'cell.separator' parameters\n",
         "    Setting up 'cell.negativeCC' parameters\n",
         "    Setting up 'cell.positiveCC' parameters\n",
         "- Building cell parameters - Done\n",
         "- Initializing state - Done       \n",
         "- Build variational formulation - Done \n",
         "- Building solvers - Done           \n"
        ]
       }
      ],
      "source": [
       "problem.setup()"
      ]
     },
     {
      "attachments": {},
      "cell_type": "markdown",
      "metadata": {},
      "source": [
       "`solve`: Perform a simulation step. Either CC and CV are suported. Input parameters:\n",
       "\n",
       "- `i_app`: The applied current in Amperes. If CV use None. Defaults to 30.0.\n",
       "- `v_app`: The applied voltage in Volts. If CC use None. Defaults to None.\n",
       "- `t_f`: The maximum duration of the simulation. Defaults to 3600.\n",
       "- `store_delay`: The delay to apply between consecutive saves of the internal variables, in number\n",
       "  of timesteps. Defaults to 1.\n",
       "- `initial_step`: Initial timestep length. If not given, the timestep chose is the minimum.\n",
       "  Defaults to None.\n",
       "- `max_step`: Maximum timestep lenght for adaptive solver in seconds. Defaults to 3600.\n",
       "- `min_step`: Minimum timestep lenght for adaptive solver in seconds. Defaults to 0.01.\n",
       "- `triggers`: List of `Triggers` to check during runtime. Defaults to [].\n",
       "- `adaptive`: Whether to use adaptive timestepping or not. Defaults to True.\n",
       "- `time_adaptive_tol`: Tolerance of the time-adaptive scheme. Defaults to 1e-2\n",
       "\n",
       "To define a trigger we can just use the class `Trigger`. Here is how to define a cut-off voltage of\n",
       "3V:\n"
      ]
     },
     {
      "cell_type": "code",
      "execution_count": 13,
      "metadata": {},
      "outputs": [],
      "source": [
       "v_min = Trigger(3, \"v\", mode='min')\n"
      ]
     },
     {
      "cell_type": "markdown",
      "metadata": {},
      "source": [
       "We can see the available trigger variables"
      ]
     },
     {
      "cell_type": "code",
      "execution_count": 14,
      "metadata": {},
      "outputs": [
       {
        "name": "stdout",
        "output_type": "stream",
        "text": [
         "Available trigger variables: 'time'('t'), 'voltage'('v'), 'current'('i')\n"
        ]
       }
      ],
      "source": [
       "Trigger.print_available_variables()\n"
      ]
     },
     {
      "cell_type": "markdown",
      "metadata": {},
      "source": [
       "Let's solve a 1C discharge until 3V or 3600 seconds"
      ]
     },
     {
      "cell_type": "code",
      "execution_count": 15,
      "metadata": {},
      "outputs": [
       {
        "name": "stdout",
        "output_type": "stream",
        "text": [
         "Initializing solution\n",
         "Solving ...\n",
         "Reached max time 3600.00                          \n",
         "\n"
        ]
       }
      ],
      "source": [
       "C_rate = -1\n",
       "I_app = C_rate * cell.ref_capacity\n",
       "t_f = 3600\n",
       "\n",
       "status = problem.solve(min_step=10, i_app=I_app, t_f=t_f,\n",
       "                       store_delay=10, triggers=[v_min])\n"
      ]
     },
     {
      "attachments": {},
      "cell_type": "markdown",
      "metadata": {},
      "source": [
       "Finally, we can plot the results using `PlotView` (only global variables, for internal variables use\n",
       "`ParaView`)"
      ]
     },
     {
      "cell_type": "code",
      "execution_count": 16,
      "metadata": {},
      "outputs": [
       {
        "data": {
         "application/vnd.jupyter.widget-view+json": {
          "model_id": "4bfba0db97cd41b08d26beb36f245a50",
          "version_major": 2,
          "version_minor": 0
         },
         "text/plain": [
          "VBox(children=(VBox(children=(Accordion(children=(HBox(children=(VBox(children=(Dropdown(description='x', layo…"
         ]
        },
        "metadata": {},
        "output_type": "display_data"
       },
       {
        "data": {
         "text/plain": [
          "<cideMOD.helpers.plotview.PlotView at 0x7f2873cb7fa0>"
         ]
        },
        "execution_count": 16,
        "metadata": {},
        "output_type": "execute_result"
       }
      ],
      "source": [
       "PlotView(problem)"
      ]
     },
     {
      "cell_type": "markdown",
      "metadata": {},
      "source": [
       "It is also possible to plot the global variables using standard python libraries like `matplotlib`."
      ]
     },
     {
      "cell_type": "code",
      "execution_count": 17,
      "metadata": {},
      "outputs": [
       {
        "data": {
         "image/png": "[encoded data removed]",
         "text/plain": [
          "<Figure size 825x600 with 1 Axes>"
         ]
        },
        "metadata": {},
        "output_type": "display_data"
       }
      ],
      "source": [
       "import matplotlib.pyplot as plt\n",
       "plt.rc('font', family='serif')\n",
       "\n",
       "# Plot voltage vs time\n",
       "time = problem.get_global_variable('time')\n",
       "voltage = problem.get_global_variable('voltage')\n",
       "fig1, ax1 = plt.subplots(1, 1, figsize=(5.5, 4), dpi=150)\n",
       "ax1.plot(time, voltage, \"-\", label='voltage')\n",
       "ax1.set_xlabel(\"Time [h]\")\n",
       "ax1.set_ylabel(\"Voltage [V]\")\n",
       "plt.show()"
      ]
     },
     {
      "cell_type": "markdown",
      "metadata": {},
      "source": [
       "Remember to set the model option `clean_on_exit` to `False` in order to do so. If you forgot to do\n",
       "it, you could also read the global variables from the `.txt` generated in the results folder."
      ]
     },
     {
      "attachments": {},
      "cell_type": "markdown",
      "metadata": {},
      "source": [
       "### **Cell Simulation Interface**\n",
       "The `CSI` class allows the user to perform battery cell simulations with complex test plans. It is a high-level interface that configures and handles the `Problem` object for us. "
      ]
     },
     {
      "cell_type": "code",
      "execution_count": 18,
      "metadata": {},
      "outputs": [],
      "source": [
       "case = \"Safari_2009\"\n",
       "model_options = get_model_options(model='P2D', save_path=f\"results/03_main_classes_cycling\",\n",
       "                                  verbose=VerbosityLevel.BASIC_PROGRESS_INFO)\n",
       "\n",
       "data_path = f\"../../data/data_{case}\"\n",
       "cell_data = \"params_cycling.json\"\n",
       "cell = CellParser(cell_data, data_path, model_options)\n",
       "\n",
       "csi = CSI(cell, model_options, test_plan='cycling_protocol.json')"
      ]
     },
     {
      "attachments": {},
      "cell_type": "markdown",
      "metadata": {},
      "source": [
       "Let's see some of its main methods:"
      ]
     },
     {
      "attachments": {},
      "cell_type": "markdown",
      "metadata": {},
      "source": [
       "`setup`: Set up the `Problem` object, allowing the user to perform additional actions before running the simulation. It is an optional step.\n"
      ]
     },
     {
      "cell_type": "code",
      "execution_count": 19,
      "metadata": {},
      "outputs": [],
      "source": [
       "csi.problem.add_global_variables('c_e_avg')\n",
       "csi.setup()\n"
      ]
     },
     {
      "cell_type": "markdown",
      "metadata": {},
      "source": [
       "`run_test_plan`: Execute the simulation."
      ]
     },
     {
      "cell_type": "code",
      "execution_count": 20,
      "metadata": {},
      "outputs": [
       {
        "name": "stdout",
        "output_type": "stream",
        "text": [
         "-- Cycle 'Cycling', iteration number 0 --\n",
         "CC_Discharge: Apply -1.6977835724041341 A during 1 hours until [Voltage Trigger at 3 V]\n",
         "Solving ...\n",
         "Voltage is 3 V at 54min 20s                       \n",
         "\n",
         "Pause: Rest during 15 minutes                     \n",
         "Solving ...\n",
         "Reached max time 4170.00                          \n",
         "\n",
         "CC_Charge-CC: Apply 1.6977835724041341 A during 1 hours until [Voltage Trigger at 4.1 V]\n",
         "Solving ...\n",
         "Voltage is 4.1 V at 1h 10min 30s                  \n",
         "\n",
         "CV_Charge-CV: Apply 4.1 V during 1 hours until [Current Trigger at 0.034 A]\n",
         "Solving ...\n",
         "Reached max time 7835.00                          \n",
         "\n",
         "Pause: Rest during 15 minutes\n",
         "Solving ...\n",
         "Reached max time 8735.00                          \n",
         "\n",
         "-- Cycle 'Cycling', iteration number 1 --\n",
         "CC_Discharge: Apply -1.6977835724041341 A during 1 hours until [Voltage Trigger at 3 V]\n",
         "Solving ...\n",
         "Voltage is 3 V at 2h 54min 35s                     \n",
         "\n",
         "Pause: Rest during 15 minutes                      \n",
         "Solving ...\n",
         "Reached max time 11385.00                          \n",
         "\n",
         "CC_Charge-CC: Apply 1.6977835724041341 A during 1 hours until [Voltage Trigger at 4.1 V]\n",
         "Solving ...\n",
         "Voltage is 4.1 V at 3h 10min 55s                   \n",
         "\n",
         "CV_Charge-CV: Apply 4.1 V during 1 hours until [Current Trigger at 0.034 A]\n",
         "Solving ...\n",
         "Reached max time 15060.00                          \n",
         "\n",
         "Pause: Rest during 15 minutes\n",
         "Solving ...\n",
         "Reached max time 15960.00                          \n",
         "\n"
        ]
       }
      ],
      "source": [
       "csi.run_test_plan()"
      ]
     },
     {
      "attachments": {},
      "cell_type": "markdown",
      "metadata": {},
      "source": [
       "`plot_global_results`: Generates an interactive plot with all the global variables."
      ]
     },
     {
      "cell_type": "code",
      "execution_count": 21,
      "metadata": {},
      "outputs": [
       {
        "data": {
         "application/vnd.jupyter.widget-view+json": {
          "model_id": "3e5f7d568e41471583d053c2305f98ce",
          "version_major": 2,
          "version_minor": 0
         },
         "text/plain": [
          "VBox(children=(VBox(children=(Accordion(children=(HBox(children=(VBox(children=(Dropdown(description='x', layo…"
         ]
        },
        "metadata": {},
        "output_type": "display_data"
       }
      ],
      "source": [
       "csi.plot_global_results()"
      ]
     }
    ],
    "metadata": {
     "kernelspec": {
      "display_name": "Python 3",
      "language": "python",
      "name": "python3"
     },
     "language_info": {
      "codemirror_mode": {
       "name": "ipython",
       "version": 3
      },
      "file_extension": ".py",
      "mimetype": "text/x-python",
      "name": "python",
      "nbconvert_exporter": "python",
      "pygments_lexer": "ipython3",
      "version": "3.10.6"
     },
     "orig_nbformat": 4,
     "vscode": {
      "interpreter": {
       "hash": "916dbcbb3f70747c44a77c7bcd40155683ae19c65e1c03b4aa3499c5328201f1"
      }
     }
    },
    "nbformat": 4,
    "nbformat_minor": 2
   }
   