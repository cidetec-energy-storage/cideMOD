{
    "cells": [
     {
      "cell_type": "markdown",
      "metadata": {},
      "source": [
       "## SEI growth under cycling conditions\n",
       "\n",
       "SEI growth is different under storage and cycling. In this case we are going to simulate the cycling of the cell with the solvent-diffusion SEI model active."
      ]
     },
     {
      "cell_type": "code",
      "execution_count": 8,
      "metadata": {},
      "outputs": [
       {
        "name": "stdout",
        "output_type": "stream",
        "text": [
         "Saving results to /home/fenicsx/shared/cideMOD/examples/notebooks/results/results_06_cycling_SEI\n"
        ]
       }
      ],
      "source": [
       "from cideMOD import CSI, CellParser, get_model_options\n",
       "\n",
       "model_options = get_model_options(model='P2D', SEI_model='solvent_diffusion',\n",
       "                                  save_path=\"results/06_cycling_SEI\")"
      ]
     },
     {
      "cell_type": "markdown",
      "metadata": {},
      "source": [
       "In this case we are going to create a cycling test plan using python dictionaries. Let's build the\n",
       "test plan step by step.\n",
       "\n",
       "1. Discharge at 0.5C until 2V or 2 h"
      ]
     },
     {
      "cell_type": "code",
      "execution_count": 9,
      "metadata": {},
      "outputs": [],
      "source": [
       "discharge_trigger = {\n",
       "    \"type\": \"Voltage\",\n",
       "    \"value\": 2,\n",
       "    \"unit\": \"V\",\n",
       "    \"atol\": 1e-4, # Absolute tolerance\n",
       "    \"rtol\": 1e-3, # Relative tolerance\n",
       "    \"goto\": \"Next\" \n",
       "}\n",
       "\n",
       "discharge_input = {\n",
       "    \"name\": \"Discharge\",\n",
       "    \"type\": \"Current\",\n",
       "    \"value\": -0.5,\n",
       "    \"unit\": \"C\",\n",
       "    \"t_max\": {\"value\": 2, \"unit\": \"h\"},\n",
       "    \"store_delay\": -1,\n",
       "    \"min_step\": 10,\n",
       "    \"max_step\": 60,\n",
       "    \"time_adaptive_tol\": 1e-2,\n",
       "    \"adaptive\": True,\n",
       "    \"events\": [discharge_trigger]\n",
       "}"
      ]
     },
     {
      "cell_type": "markdown",
      "metadata": {},
      "source": [
       "2. A CC charge at 0.5C until 4.2 V or 2 h"
      ]
     },
     {
      "cell_type": "code",
      "execution_count": 10,
      "metadata": {},
      "outputs": [],
      "source": [
       "charge_CC_trigger = {\n",
       "    \"type\": \"Voltage\",\n",
       "    \"value\": 4.2,\n",
       "    \"unit\": \"V\",\n",
       "    \"atol\": 1e-4, \n",
       "    \"rtol\": 1e-3,\n",
       "    \"goto\": \"Next\" \n",
       "}\n",
       "\n",
       "charge_CC_input = {\n",
       "    \"name\": \"Charge-CC\",\n",
       "    \"type\": \"Current\",\n",
       "    \"value\": 0.5,\n",
       "    \"unit\": \"C\",\n",
       "    \"t_max\": {\"value\": 2, \"unit\": \"h\"},\n",
       "    \"store_delay\": -1,\n",
       "    \"min_step\": 10,\n",
       "    \"max_step\": 60,\n",
       "    \"time_adaptive_tol\": 1e-2,\n",
       "    \"adaptive\": True,\n",
       "    \"events\": [charge_CC_trigger]\n",
       "}"
      ]
     },
     {
      "cell_type": "markdown",
      "metadata": {},
      "source": [
       "3. A CV charge at 4.2 V until 0.05C or 2 h"
      ]
     },
     {
      "cell_type": "code",
      "execution_count": 11,
      "metadata": {},
      "outputs": [],
      "source": [
       "charge_CV_trigger = {\n",
       "    \"type\": \"Current\",\n",
       "    \"value\": 0.05,\n",
       "    \"unit\": \"C\",\n",
       "    \"atol\": 1e-4, \n",
       "    \"rtol\": 1e-3,\n",
       "    \"goto\": \"Next\" \n",
       "}\n",
       "\n",
       "charge_CV_input = {\n",
       "    \"name\": \"Charge-CV\",\n",
       "    \"type\": \"Voltage\",\n",
       "    \"value\": 4.2,\n",
       "    \"unit\": \"V\",\n",
       "    \"t_max\": {\"value\": 2, \"unit\": \"h\"},\n",
       "    \"store_delay\": -1,\n",
       "    \"min_step\": 10,\n",
       "    \"max_step\": 60,\n",
       "    \"time_adaptive_tol\": 1e-2,\n",
       "    \"adaptive\": True,\n",
       "    \"events\": [charge_CV_trigger]\n",
       "}"
      ]
     },
     {
      "cell_type": "markdown",
      "metadata": {},
      "source": [
       "Now we can build the test plan"
      ]
     },
     {
      "cell_type": "code",
      "execution_count": 12,
      "metadata": {},
      "outputs": [],
      "source": [
       "N_cycles = 5\n",
       "test_plan = {\n",
       "    \"initial_state\": {\"SOC\": 1, \"exterior_temperature\": 298.15},\n",
       "    \"steps\": [\n",
       "        {\n",
       "            \"name\": \"Cycling\",\n",
       "            \"type\": \"Cycle\",\n",
       "            \"count\": N_cycles,\n",
       "            \"steps\": [\n",
       "                discharge_input,\n",
       "                charge_CC_input,\n",
       "                charge_CV_input,\n",
       "            ]\n",
       "        }\n",
       "    ]\n",
       "}"
      ]
     },
     {
      "cell_type": "markdown",
      "metadata": {},
      "source": [
       "Finally, we select the `Safari 2009` dataset, modifying it slightly to move on to the reaction-limited\n",
       "regime and run the simulation. $^{[1]}$"
      ]
     },
     {
      "cell_type": "code",
      "execution_count": 13,
      "metadata": {},
      "outputs": [
       {
        "name": "stdout",
        "output_type": "stream",
        "text": [
         "Negative electrode capacity: 1.697784\n",
         "Positive electrode capacity: 2.163497\n",
         "Cell capacity: 1.697784\n",
         "Negative electrode capacity: 1.697784\n",
         "Positive electrode capacity: 2.163497\n",
         "Cell capacity: 1.697784\n"
        ]
       }
      ],
      "source": [
       "data_path = \"../../data/data_Safari_2009\"\n",
       "cell_data = \"params_cycling_lumped.json\"\n",
       "cell = CellParser(cell_data, data_path, model_options)\n",
       "cell.update_parameters({\n",
       "    \"cell.anode.SEI.porous.solvent_diffusion\": 1.3e-15,\n",
       "    \"cell.anode.SEI.porous.rate_constant\" : 1.36e-12\n",
       "})\n"
      ]
     },
     {
      "cell_type": "code",
      "execution_count": 14,
      "metadata": {},
      "outputs": [
       {
        "name": "stdout",
        "output_type": "stream",
        "text": [
         "Building mesh for P2D problem with 3 components and 90 nodes\n",
         "Finished mesh construction\n",
         "Initial state:\n",
         "\tSOC : 1\n",
         "\texterior_temperature : 298.15\n",
         "Steps:\n",
         "0 -  Cycle 'Cycling' repeats 5 times:\n",
         "\t 0 - CC_Discharge: Apply -0.8488917862020671 A during 2 hours until [Voltage Trigger at 2 V]\n",
         "\t 1 - CC_Charge-CC: Apply 0.8488917862020671 A during 2 hours until [Voltage Trigger at 4.2 V]\n",
         "\t 2 - CV_Charge-CV: Apply 4.2 V during 2 hours until [Current Trigger at 0.085 A]\n",
         "Building problem setup\n",
         "- Building cell parameters ...      \r"
        ]
       },
       {
        "name": "stdout",
        "output_type": "stream",
        "text": [
         "- Building cell parameters - Done   \n",
         "- Initializing state - Done         \n",
         "- Build variational formulation - Done \n",
         "-- Cycle 'Cycling', iteration number 0 --\n",
         "CC_Discharge: Apply -0.8488917862020671 A during 2 hours until [Voltage Trigger at 2 V]\n",
         "Reached max time 7200.00                            \n",
         "\n",
         "CC_Charge-CC: Apply 0.8488917862020671 A during 2 hours until [Voltage Trigger at 4.2 V]\n",
         "Voltage is 4.2 V at 3h 35min 11s                    \n",
         "\n",
         "CV_Charge-CV: Apply 4.2 V during 2 hours until [Current Trigger at 0.085 A]\n",
         "Current is 0.085 A at 4h 52min 24s                  \n",
         "\n",
         "-- Cycle 'Cycling', iteration number 1 --           \n",
         "CC_Discharge: Apply -0.8488917862020671 A during 2 hours until [Voltage Trigger at 2 V]\n",
         "Reached max time 24748.77                           \n",
         "\n",
         "CC_Charge-CC: Apply 0.8488917862020671 A during 2 hours until [Voltage Trigger at 4.2 V]\n",
         "Voltage is 4.2 V at 8h 25min 9s                     \n",
         "\n",
         "CV_Charge-CV: Apply 4.2 V during 2 hours until [Current Trigger at 0.085 A]\n",
         "Current is 0.085 A at 9h 42min 9s                   \n",
         "\n",
         "-- Cycle 'Cycling', iteration number 2 --           \n",
         "CC_Discharge: Apply -0.8488917862020671 A during 2 hours until [Voltage Trigger at 2 V]\n",
         "Reached max time 42139.79                            \n",
         "\n",
         "CC_Charge-CC: Apply 0.8488917862020671 A during 2 hours until [Voltage Trigger at 4.2 V]\n",
         "Voltage is 4.2 V at 13h 15min 4s                     \n",
         "\n",
         "CV_Charge-CV: Apply 4.2 V during 2 hours until [Current Trigger at 0.085 A]\n",
         "Current is 0.085 A at 14h 31min 58s                  \n",
         "\n",
         "-- Cycle 'Cycling', iteration number 3 --            \n",
         "CC_Discharge: Apply -0.8488917862020671 A during 2 hours until [Voltage Trigger at 2 V]\n",
         "Reached max time 59528.84                            \n",
         "\n",
         "CC_Charge-CC: Apply 0.8488917862020671 A during 2 hours until [Voltage Trigger at 4.2 V]\n",
         "Voltage is 4.2 V at 18h 4min 51s                     \n",
         "\n",
         "CV_Charge-CV: Apply 4.2 V during 2 hours until [Current Trigger at 0.085 A]\n",
         "Current is 0.085 A at 19h 21min 56s                  \n",
         "\n",
         "-- Cycle 'Cycling', iteration number 4 --            \n",
         "CC_Discharge: Apply -0.8488917862020671 A during 2 hours until [Voltage Trigger at 2 V]\n",
         "Reached max time 76920.61                            \n",
         "\n",
         "CC_Charge-CC: Apply 0.8488917862020671 A during 2 hours until [Voltage Trigger at 4.2 V]\n",
         "Voltage is 4.2 V at 22h 54min 33s                    \n",
         "\n",
         "CV_Charge-CV: Apply 4.2 V during 2 hours until [Current Trigger at 0.085 A]\n",
         "Current is 0.085 A at 1d 11min 45s                   \n",
         "\n",
         "Time: 1d 11min 45s   Voltage: 4.2  Current: 0.08489\r"
        ]
       }
      ],
      "source": [
       "csi = CSI(cell, model_options, test_plan)\n",
       "status = csi.run_test_plan()"
      ]
     },
     {
      "cell_type": "code",
      "execution_count": 15,
      "metadata": {},
      "outputs": [
       {
        "data": {
         "application/vnd.jupyter.widget-view+json": {
          "model_id": "791759868496416ab25e23ad0c9c5af4",
          "version_major": 2,
          "version_minor": 0
         },
         "text/plain": [
          "VBox(children=(VBox(children=(Accordion(children=(HBox(children=(VBox(children=(Dropdown(description='x', layo…"
         ]
        },
        "metadata": {},
        "output_type": "display_data"
       }
      ],
      "source": [
       "csi.plot_global_results()"
      ]
     },
     {
      "cell_type": "markdown",
      "metadata": {},
      "source": [
       "[1] M. Safari et al 2009 J. Electrochem. Soc. 156 A145 doi: 10.1149/1.3043429"
      ]
     }
    ],
    "metadata": {
     "interpreter": {
      "hash": "31f2aee4e71d21fbe5cf8b01ff0e069b9275f58929596ceb00d14d90e3e16cd6"
     },
     "kernelspec": {
      "display_name": "Python 3.6.9 64-bit",
      "language": "python",
      "name": "python3"
     },
     "language_info": {
      "codemirror_mode": {
       "name": "ipython",
       "version": 3
      },
      "file_extension": ".py",
      "mimetype": "text/x-python",
      "name": "python",
      "nbconvert_exporter": "python",
      "pygments_lexer": "ipython3",
      "version": "3.10.6"
     },
     "orig_nbformat": 4
    },
    "nbformat": 4,
    "nbformat_minor": 2
   }
   